{
 "cells": [
  {
   "cell_type": "code",
   "execution_count": null,
   "id": "83d33218",
   "metadata": {},
   "outputs": [],
   "source": [
    "- ### 變數,list,dict\n",
    "- ### 判斷,迴圈\n",
    "- ### function\n"
   ]
  },
  {
   "cell_type": "code",
   "execution_count": null,
   "id": "17bc4090",
   "metadata": {},
   "outputs": [
    {
     "data": {
      "text/plain": [
       "('小明', 18, 175.5)"
      ]
     },
     "execution_count": 2,
     "metadata": {},
     "output_type": "execute_result"
    }
   ],
   "source": [
    "# 變數 (variable)\n",
    "name = \"小明\"\n",
    "age = 18\n",
    "height = 175.5\n",
    "\n",
    "name, age, height #這是tuple"
   ]
  },
  {
   "cell_type": "code",
   "execution_count": 3,
   "id": "9d1522de",
   "metadata": {},
   "outputs": [
    {
     "name": "stdout",
     "output_type": "stream",
     "text": [
      "<class 'list'>\n",
      "水果清單: ['蘋果', '香蕉', '櫻桃']\n",
      "第一個水果: 蘋果\n",
      "反轉後的水果清單: ['櫻桃', '香蕉', '蘋果']\n"
     ]
    }
   ],
   "source": [
    "fruits = [\"蘋果\", \"香蕉\", \"櫻桃\"]\n",
    "print(type(fruits))\n",
    "print(\"水果清單:\", fruits)\n",
    "print(\"第一個水果:\", fruits[0])\n",
    "fruits.reverse() # 反轉清單\n",
    "print(\"反轉後的水果清單:\", fruits)\n"
   ]
  }
 ],
 "metadata": {
  "kernelspec": {
   "display_name": "line_bot",
   "language": "python",
   "name": "python3"
  },
  "language_info": {
   "codemirror_mode": {
    "name": "ipython",
    "version": 3
   },
   "file_extension": ".py",
   "mimetype": "text/x-python",
   "name": "python",
   "nbconvert_exporter": "python",
   "pygments_lexer": "ipython3",
   "version": "3.12.11"
  }
 },
 "nbformat": 4,
 "nbformat_minor": 5
}
