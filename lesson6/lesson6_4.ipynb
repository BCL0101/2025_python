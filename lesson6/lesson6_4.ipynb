{
 "cells": [
  {
   "cell_type": "code",
   "execution_count": 3,
   "id": "2c7e3c09",
   "metadata": {},
   "outputs": [
    {
     "name": "stdout",
     "output_type": "stream",
     "text": [
      "===========AI回應==============\n"
     ]
    },
    {
     "data": {
      "text/markdown": [
       "想像一下，Python的函式就像你手中的工具，可以幫你做一些特定的事情。 \n",
       "\n",
       "**簡單來說，函式就是一段程式碼，它可以做一件事，而且它可以重複做這個事情很多次。**\n",
       "\n",
       "以下是一些更詳細的解釋：\n",
       "\n",
       "* **程式碼的單一任務:** 每個函式都有一個特定的目標，比如計算一個數字、讀取資料、顯示訊息等等。\n",
       "* **重複執行:** 程式碼就像一個程序，你執行它，它會不斷地重複執行。\n",
       "* **參數和返回值:** 函式可以接收一些資料（參數），然後執行一些事情，並在結束後返回一些結果（返回值）。\n",
       "* **簡單易學:** 函式通常比較簡單，容易理解和寫，所以適合新手學習程式設計。\n",
       "\n",
       "**舉個例子:**\n",
       "\n",
       "假設你想要計算一個數字：\n",
       "\n",
       "```python\n",
       "def add(x, y):\n",
       "  result = x + y\n",
       "  return result\n",
       "\n",
       "# 執行函式\n",
       "sum = add(5, 3)\n",
       "print(sum)  # 輸出: 8\n",
       "```\n",
       "\n",
       "在這個例子中：\n",
       "\n",
       "* `def add(x, y):`  定義了一個叫做 `add` 的函式，它接收兩個參數 `x` 和 `y`。\n",
       "* `result = x + y`  計算 `x` 和 `y` 的和，並將結果儲存在 `result` 變數中。\n",
       "* `return result`  返回 `result` 的值。\n",
       "* `sum = add(5, 3)`  我們執行 `add` 函式，輸入 5 和 3，它會返回 8，然後將 8 儲存在 `sum` 變數中。\n",
       "* `print(sum)` 顯示 `sum` 的值，也就是 8。\n",
       "\n",
       "**總結:** 函式就像是一個程式碼的小片段，用來完成特定的任務，並且可以多次重複執行。\n",
       "\n",
       "希望這個解釋對你有幫助！\n"
      ],
      "text/plain": [
       "<IPython.core.display.Markdown object>"
      ]
     },
     "metadata": {},
     "output_type": "display_data"
    }
   ],
   "source": [
    "import requests\n",
    "#import pprint\n",
    "from pprint import pprint\n",
    "from IPython.display import Markdown, display\n",
    "\n",
    "def generate_with_ollama(prompt:str)->None:\n",
    "    url = \"http://localhost:11434/api/generate\"\n",
    "    payload = {\n",
    "        \"model\":\"gemma3:1b\",\n",
    "        \"prompt\":prompt,\n",
    "        \"stream\":False\n",
    "    }\n",
    "    response = requests.post(url,json=payload)\n",
    "    result = response.json()\n",
    "    #print(type(result))\n",
    "    #pprint(result)\n",
    "    print(\"===========AI回應==============\")\n",
    "    display(Markdown(result['response']))\n",
    "\n",
    "generate_with_ollama(\"請用簡單的方式解釋什麼是Python的函式？\")"
   ]
  }
 ],
 "metadata": {
  "kernelspec": {
   "display_name": "line_bot",
   "language": "python",
   "name": "python3"
  },
  "language_info": {
   "codemirror_mode": {
    "name": "ipython",
    "version": 3
   },
   "file_extension": ".py",
   "mimetype": "text/x-python",
   "name": "python",
   "nbconvert_exporter": "python",
   "pygments_lexer": "ipython3",
   "version": "3.12.11"
  }
 },
 "nbformat": 4,
 "nbformat_minor": 5
}
