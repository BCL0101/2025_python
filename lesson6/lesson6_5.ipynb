{
 "cells": [
  {
   "cell_type": "code",
   "execution_count": 1,
   "id": "ec3d2200",
   "metadata": {},
   "outputs": [
    {
     "name": "stdout",
     "output_type": "stream",
     "text": [
      "天空之所以是藍色的，主要是因為**瑞利散射 (Rayleigh Scattering)** 現象，它與陽光、地球大氣層以及不同顏色光線的波長有關。\n",
      "\n",
      "以下是詳細的解釋：\n",
      "\n",
      "1.  **陽光的組成：**\n",
      "    陽光看起來是白色的，但它實際上是由各種不同顏色的光組成的，就像彩虹一樣（紅、橙、黃、綠、藍、靛、紫）。這些不同顏色的光具有不同的波長：紅色光的波長最長，而藍色和紫色光的波長最短。\n",
      "\n",
      "2.  **地球的大氣層：**\n",
      "    地球的大氣層主要由氮氣（約78%）和氧氣（約21%）分子組成，還有少量的其他氣體、水蒸氣和塵埃顆粒。這些氣體分子的尺寸非常小，比可見光的波長還要小得多。\n",
      "\n",
      "3.  **瑞利散射：**\n",
      "    當陽光穿過地球大氣層時，它會撞擊到這些微小的氣體分子。由於這些分子比光的波長小很多，它們會將光線散射開來。這種散射現象被稱為「瑞利散射」。\n",
      "    瑞利散射有一個非常關鍵的特性：**波長越短的光，散射得越厲害。**\n",
      "\n",
      "4.  **為什麼是藍色？**\n",
      "    *   在可見光譜中，藍色光和紫色光的波長最短。\n",
      "    *   因此，當陽光進入大氣層時，藍色和紫色光比其他顏色的光（如紅色、橙色、黃色光）更容易被大氣中的分子散射開來，而且散射的程度要強得多。\n",
      "    *   這些被散射的藍光和紫光從四面八方進入我們的眼睛，所以無論我們看向天空的哪個方向，都會看到藍色。\n",
      "    *   雖然紫色光的波長比藍色光更短，散射得更厲害，但我們眼睛對藍色光的敏感度更高，而且陽光中藍光的含量也略多於紫光，所以我們最終看到的天空主要是藍色的，而不是紫色。\n",
      "\n",
      "5.  **日出日落時的紅色/橙色：**\n",
      "    這個原理也能解釋為什麼日出和日落時天空會呈現紅色或橙色。當太陽在地平線附近時，陽光需要穿過更厚、更長的大氣層才能到達我們的眼睛。在這個過程中，幾乎所有的藍色和紫色光都被散射開了，只剩下波長較長、散射程度較弱的紅色、橙色和黃色光能夠直接穿透大氣層到達我們的眼睛，所以我們看到了紅色或橙色的夕陽。\n",
      "\n",
      "總結來說，天空之所以是藍色的，是因為大氣中的微小分子對短波長的藍光散射能力最強，使得藍光充滿了整個天空。\n"
     ]
    }
   ],
   "source": [
    "from google import genai\n",
    "\n",
    "# The client gets the API key from the environment variable `GEMINI_API_KEY`.\n",
    "client = genai.Client()\n",
    "\n",
    "response = client.models.generate_content(\n",
    "    model=\"gemini-2.5-flash\", contents=\"天空為什麼是藍色的？\"\n",
    ")\n",
    "print(response.text)"
   ]
  }
 ],
 "metadata": {
  "kernelspec": {
   "display_name": "line_bot",
   "language": "python",
   "name": "python3"
  },
  "language_info": {
   "codemirror_mode": {
    "name": "ipython",
    "version": 3
   },
   "file_extension": ".py",
   "mimetype": "text/x-python",
   "name": "python",
   "nbconvert_exporter": "python",
   "pygments_lexer": "ipython3",
   "version": "3.12.11"
  }
 },
 "nbformat": 4,
 "nbformat_minor": 5
}
