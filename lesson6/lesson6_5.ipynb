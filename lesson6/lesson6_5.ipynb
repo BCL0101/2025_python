{
 "cells": [
  {
   "cell_type": "code",
   "execution_count": 1,
   "id": "ec3d2200",
   "metadata": {},
   "outputs": [
    {
     "name": "stdout",
     "output_type": "stream",
     "text": [
      "天空之所以是藍色的，主要是因為**太陽光的散射**現象，特別是**瑞利散射（Rayleigh Scattering）**。\n",
      "\n",
      "以下是詳細的解釋：\n",
      "\n",
      "1.  **太陽光是白色光，包含所有顏色：**\n",
      "    太陽光看起來是白色的，但它實際上是由所有不同顏色的光混合而成的，就像彩虹一樣，包含紅、橙、黃、綠、藍、靛、紫等不同波長的光。\n",
      "\n",
      "2.  **大氣層中的分子：**\n",
      "    當太陽光穿過地球的大氣層時，會遇到大氣中的氣體分子，主要是氮氣（N2）和氧氣（O2）分子。這些分子的大小比光的波長小很多。\n",
      "\n",
      "3.  **瑞利散射：**\n",
      "    這時候就會發生一種特殊的散射現象，叫做「瑞利散射」。瑞利散射的特性是：**波長越短的光，被散射的程度就越強**。\n",
      "    *   在可見光中，**藍光和紫光的波長最短**，所以它們被大氣分子散射得最厲害，向四面八方散開。\n",
      "    *   而紅光、橙光等波長較長的光，則比較容易直接穿過大氣層，不會被大量散射。\n",
      "\n",
      "4.  **為什麼是藍色而不是紫色？**\n",
      "    雖然紫光的波長比藍光更短，散射得更厲害，但我們看到的天空卻是藍色的，有幾個原因：\n",
      "    *   **太陽光本身發出的紫光成分就比藍光少。**\n",
      "    *   **我們的眼睛對藍光的敏感度比紫光高。**\n",
      "    *   部分紫光在穿透大氣層的過程中，也可能被吸收或散射到我們視野之外。\n",
      "    *   所以，綜合起來，我們感受到的大部分散射光就是藍色的。\n",
      "\n",
      "**總結來說：**\n",
      "當你白天仰望天空時，你看到的就是那些被大氣分子散射開來的藍光，使得整個天空呈現藍色。而太陽直射過來的光，因為大部分藍光和紫光都被散射開了，所以看起來會略帶黃色。\n",
      "\n",
      "---\n",
      "\n",
      "**小補充：日出和日落時天空變紅的原因**\n",
      "\n",
      "當太陽位於地平線附近時（日出或日落），陽光需要穿過更厚、更長的大氣層才能到達我們眼睛。\n",
      "這意味著大部分的藍光和紫光在到達我們之前，就已經被散射開了。剩下那些波長較長、不容易被散射的紅光、橙光和黃光，就能夠直接穿透過來，所以我們看到的天空就呈現紅色或橙色。\n"
     ]
    }
   ],
   "source": [
    "from google import genai\n",
    "\n",
    "# The client gets the API key from the environment variable `GEMINI_API_KEY`.\n",
    "client = genai.Client()\n",
    "\n",
    "response = client.models.generate_content(\n",
    "    model=\"gemini-2.5-flash\", contents=\"天空為什麼是藍色的？\"\n",
    ")\n",
    "print(response.text)"
   ]
  }
 ],
 "metadata": {
  "kernelspec": {
   "display_name": "line_bot",
   "language": "python",
   "name": "python3"
  },
  "language_info": {
   "codemirror_mode": {
    "name": "ipython",
    "version": 3
   },
   "file_extension": ".py",
   "mimetype": "text/x-python",
   "name": "python",
   "nbconvert_exporter": "python",
   "pygments_lexer": "ipython3",
   "version": "3.12.11"
  }
 },
 "nbformat": 4,
 "nbformat_minor": 5
}
