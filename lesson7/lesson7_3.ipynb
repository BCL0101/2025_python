{
 "cells": [
  {
   "cell_type": "code",
   "execution_count": null,
   "id": "84de86cb",
   "metadata": {},
   "outputs": [],
   "source": [
    "from google import genai\n",
    "\n",
    "client = genai.Client()\n",
    "response = client.models.generate_content_stream(\n",
    "    model=\"gemini-2.5-flash\",\n",
    "    contents=[\"AI是如何工作的(請使用繁體中文回答)?\"],\n",
    ")\n",
    "for chunk in response:\n",
    "    print(chunk.text)"
   ]
  },
  {
   "cell_type": "code",
   "execution_count": 1,
   "id": "d4c32b4c",
   "metadata": {},
   "outputs": [
    {
     "data": {
      "text/markdown": [
       "這是一個在中國網絡上非常流行和常見的**表情包 (emoji/sticker pack)**。\n",
       "\n",
       "關於它的一些資訊：\n",
       "\n",
       "1.  **圖片內容描述：**\n",
       "    *   圖片中是一個綠色卡通人物的頭像，有著粗黑的線條勾勒。\n",
       "    *   它最顯著的特徵是**紅腫的眼睛**，看起來非常疲憊、困倦，甚至有些「宿醉」或「發呆」的感覺。\n",
       "    *   嘴巴微張，還流著一滴口水，這進一步強化了它**極度疲勞或懵懂**的狀態。\n",
       "    *   旁邊配有文字「**蛤？**」和一個問號。\n",
       "\n",
       "2.  **文字「蛤？」的含義：**\n",
       "    *   「蛤？」是中國網絡上的流行語，通常發音為 \"há\" 或 \"gě\"。\n",
       "    *   它是一個語氣詞，用來表達：\n",
       "        *   **困惑、不解：** 類似於中文的「啥？」或英文的 \"Huh?\" \"What?\"，表示對對方所說內容的疑問或不理解。\n",
       "        *   **震驚、不可置信：** 對於意想不到或荒謬的事情表示疑問，帶有「你說什麼鬼？」的意味。\n",
       "        *   **無語、茫然：** 尤其是在人物疲憊的狀態下，更像是一種「我的大腦已經停止運轉了，你剛才說了什麼？」的感覺。\n",
       "\n",
       "3.  **表情包的用途和情境：**\n",
       "    *   這個表情包常常用於網絡聊天中，當對方說了什麼讓你感到**摸不著頭腦、出乎意料**，或者你本身就**非常困倦、思維遲鈍**時，就可以發送這個表情來表達你的狀態或反應。\n",
       "    *   它傳達了一種「我沒聽錯吧？」、「這是什麼情況？」或者「我已經困得大腦停轉了」的感覺，帶有**幽默和自嘲**的成分。\n",
       "    *   它生動地表現了人在極度疲憊或精神不佳時，對周圍事物反應遲鈍、甚至無法理解的狀態。\n",
       "\n",
       "總之，這個「蛤？」表情包是一個非常形象且富有幽默感的網絡表情，用來表達**疲憊狀態下的困惑和無語**。"
      ],
      "text/plain": [
       "<IPython.core.display.Markdown object>"
      ]
     },
     "metadata": {},
     "output_type": "display_data"
    }
   ],
   "source": [
    "import PIL.Image\n",
    "from google import genai\n",
    "from IPython.display import display, Markdown\n",
    "\n",
    "client = genai.Client()\n",
    "image = PIL.Image.open('greenbabe.jpg')\n",
    "response = client.models.generate_content(\n",
    "    model=\"gemini-2.5-flash\",\n",
    "    contents=[image, \"請告訴我這是什麼,還有關於它的一些資訊\"]\n",
    ")\n",
    "\n",
    "display(Markdown(response.text))"
   ]
  }
 ],
 "metadata": {
  "kernelspec": {
   "display_name": "line_bot",
   "language": "python",
   "name": "python3"
  },
  "language_info": {
   "codemirror_mode": {
    "name": "ipython",
    "version": 3
   },
   "file_extension": ".py",
   "mimetype": "text/x-python",
   "name": "python",
   "nbconvert_exporter": "python",
   "pygments_lexer": "ipython3",
   "version": "3.12.11"
  }
 },
 "nbformat": 4,
 "nbformat_minor": 5
}
