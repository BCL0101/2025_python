{
 "cells": [
  {
   "cell_type": "markdown",
   "id": "0880d66a",
   "metadata": {},
   "source": [
    "### 資料儲存\n",
    "- 變數\n",
    "- list\n",
    "- dict"
   ]
  },
  {
   "cell_type": "code",
   "execution_count": 1,
   "id": "c4dad88d",
   "metadata": {},
   "outputs": [
    {
     "name": "stdout",
     "output_type": "stream",
     "text": [
      "建立變數\n",
      "變數內容：Pyyhon\n",
      "變數類型：“, type(name)\n"
     ]
    }
   ],
   "source": [
    "print(\"建立變數\")\n",
    "name = \"Pyyhon\"\n",
    "print(\"變數內容：\", name, sep=\"\")\n",
    "print(\"變數類型：“, type(name)\")"
   ]
  },
  {
   "cell_type": "code",
   "execution_count": 1,
   "id": "10753c69",
   "metadata": {},
   "outputs": [
    {
     "name": "stdout",
     "output_type": "stream",
     "text": [
      "1 | 5.0 | Hello | True.\n"
     ]
    }
   ],
   "source": [
    "print(1, 5.0, \"Hello\", True, end=\".\\n\", sep=\" | \")"
   ]
  }
 ],
 "metadata": {
  "kernelspec": {
   "display_name": "line_bot",
   "language": "python",
   "name": "python3"
  },
  "language_info": {
   "codemirror_mode": {
    "name": "ipython",
    "version": 3
   },
   "file_extension": ".py",
   "mimetype": "text/x-python",
   "name": "python",
   "nbconvert_exporter": "python",
   "pygments_lexer": "ipython3",
   "version": "3.12.11"
  }
 },
 "nbformat": 4,
 "nbformat_minor": 5
}
