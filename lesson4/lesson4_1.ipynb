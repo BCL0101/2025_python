{
 "cells": [
  {
   "cell_type": "markdown",
   "id": "0880d66a",
   "metadata": {},
   "source": [
    "### 資料儲存\n",
    "- 變數\n",
    "- list\n",
    "- dict"
   ]
  },
  {
   "cell_type": "code",
   "execution_count": null,
   "id": "c4dad88d",
   "metadata": {},
   "outputs": [],
   "source": [
    "print(\"建立變數\")\n",
    "name = \"Pyyhon\"\n",
    "print(\"變數內容：\", name, sep=\"\")\n",
    "print(\"變數類型：“, type(name)\")"
   ]
  }
 ],
 "metadata": {
  "kernelspec": {
   "display_name": "line_bot",
   "language": "python",
   "name": "python3"
  },
  "language_info": {
   "name": "python",
   "version": "3.12.11"
  }
 },
 "nbformat": 4,
 "nbformat_minor": 5
}
