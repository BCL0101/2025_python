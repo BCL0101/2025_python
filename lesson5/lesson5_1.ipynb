{
 "cells": [
  {
   "cell_type": "code",
   "execution_count": null,
   "id": "35bfad69",
   "metadata": {},
   "outputs": [],
   "source": [
    "import requests\n",
    "\n",
    "def chat_with_ollama(prompt: str):\n",
    "    url = \"http://localhost:11434/api/generate\"\n",
    "    payload = {\n",
    "        \"model\": \"gemma3:1b\",\n",
    "        \"prompt\": prompt,\n",
    "        \"stream\": False,\n",
    "        \"options\": { #參考說明1\n",
    "            \"temperature\": 0.7,\n",
    "            \"top_p\": 0.9,\n",
    "            \"top_k\": 50,\n",
    "        },\n",
    "        \"max_tokens\": 100,\n",
    "        \"format\": \"json\",\n",
    "    }\n",
    "\n",
    "    response = requests.post(url, json=payload)\n",
    "    result = response.json()\n",
    "    print(\"💬 AI 回應：\")\n",
    "    # Print the whole result for debugging\n",
    "    print(result)\n",
    "    # Try to print the 'response' key if it exists, otherwise print possible keys\n",
    "    if \"response\" in result:\n",
    "        print(result[\"response\"])\n",
    "    elif \"message\" in result:\n",
    "        print(result[\"message\"])\n",
    "    elif \"content\" in result:\n",
    "        print(result[\"content\"])\n",
    "    else:\n",
    "        print(\"No expected key found in response. Available keys:\", result.keys())\n",
    "\n",
    "#範例輸入\n",
    "chat_with_ollama(\"請問你是誰？\")"
   ]
  },
  {
   "cell_type": "code",
   "execution_count": null,
   "id": "65042306",
   "metadata": {},
   "outputs": [],
   "source": [
    "import requests\n",
    "\n",
    "url = 'https://github.com/open-webui/open-webui'\n",
    "response = requests.get(url) #引數值的呼叫\n",
    "#type(response)\n",
    "if response.status_code ==200:\n",
    "    print(\"下載成功\")\n",
    "    print(response.text)\n",
    "\n",
    "#requests.get(url=url) #引數名稱呼叫\n"
   ]
  },
  {
   "cell_type": "code",
   "execution_count": 34,
   "id": "18d2d46c",
   "metadata": {},
   "outputs": [
    {
     "name": "stdout",
     "output_type": "stream",
     "text": [
      "成功\n"
     ]
    },
    {
     "data": {
      "text/markdown": [
       "天空之所以是藍的，主要是因為一種叫做**瑞利散射 (Rayleigh scattering)** 的現象。以下是更詳細的解釋：\n",
       "\n",
       "**1. 光的種類：**\n",
       "\n",
       "*   太陽光看起來是白色的，但實際上它是由不同顏色的光組成的。\n",
       "*   我們能看到的顏色是藍色和紅色，因為它們的波長更短，更容易被我們眼睛看到。\n",
       "\n",
       "**2. 瑞利散射是什麼？**\n",
       "\n",
       "*   瑞利散射是指，當光線遇到小目標時，會被分散到各個方向。 太陽光穿過大氣層時，它與空氣中的微小粒子（主要是氮氣和氧氣）相互作用。\n",
       "*   波長越短的光線（藍光和紫光）更容易被這些小粒子散射到各個方向。\n",
       "\n",
       "**3. 藍光的優勢：**\n",
       "\n",
       "*   藍光比其他顏色（例如紅光）更容易被散射。\n",
       "*   由於藍光被散射到整個天空，所以我們看到的天空呈現藍色。\n",
       "\n",
       "**4. 其他顏色消失的原因：**\n",
       "\n",
       "*   由於藍光被散射得這麼多，所以我們能看到的顏色主要取決於紅光和黃光，因為這些顏色波長更長，不容易被散射。\n",
       "*   因此，我們看到的天空呈現紅色和黃色。\n",
       "\n",
       "**5. 為什麼不是紫色的？**\n",
       "\n",
       "*   雖然紫光更容易被散射，但太陽光中紫光的比例比藍光低。 我們的眼睛對紫光比較敏感，所以我們看到的天空呈現出淡淡的藍色。\n",
       "\n",
       "**總結來說，天空之所以是藍色的，是因為陽光照射到空氣中的微小粒子，使得藍光被散射到更廣泛的空間，使得我們看到的天空呈現藍色。**\n",
       "\n",
       "希望這個解釋對你有幫助!\n",
       "\n",
       "你還有其他關於光的有趣問題嗎？\n"
      ],
      "text/plain": [
       "<IPython.core.display.Markdown object>"
      ]
     },
     "metadata": {},
     "output_type": "display_data"
    }
   ],
   "source": [
    "import requests\n",
    "from IPython.display import Markdown, display\n",
    "\n",
    "url = \"http://localhost:11434/api/generate\"\n",
    "response = requests.post(url, json={\n",
    "    \"model\": \"gemma3:1b\",\n",
    "    \"prompt\": \"天空為什麼是藍的？\",\n",
    "    \"stream\": False,\n",
    "})\n",
    "if response.status_code == 200:\n",
    "    print(\"成功\")\n",
    "    result = response.json()\n",
    "    display(Markdown(result['response']))\n",
    "else:\n",
    "    print(\"失敗\")\n",
    "    print(\"原因\", response.status_code)"
   ]
  },
  {
   "cell_type": "code",
   "execution_count": 30,
   "id": "bf72e0b5",
   "metadata": {},
   "outputs": [
    {
     "name": "stdout",
     "output_type": "stream",
     "text": [
      "TW\n",
      "JP\n",
      "HK\n",
      "Taiwan\n",
      "Japan\n",
      "Hong Kong\n",
      "TW Taiwan\n",
      "JP Japan\n",
      "HK Hong Kong\n"
     ]
    }
   ],
   "source": [
    "codes = {\n",
    "    \"TW\":\"Taiwan\",\n",
    "    \"JP\":\"Japan\",\n",
    "    \"HK\":\"Hong Kong\",\n",
    "}\n",
    "codes[\"TW\"]\n",
    "codes[\"JP\"]\n",
    "codes[\"HK\"]\n",
    "codes.keys()\n",
    "for item in codes.keys():\n",
    "    print(item)\n",
    "\n",
    "for value in codes.values():\n",
    "    print(value)\n",
    "\n",
    "for (code,name) in codes.items():\n",
    "    print(code,name)"
   ]
  }
 ],
 "metadata": {
  "kernelspec": {
   "display_name": "line_bot",
   "language": "python",
   "name": "python3"
  },
  "language_info": {
   "codemirror_mode": {
    "name": "ipython",
    "version": 3
   },
   "file_extension": ".py",
   "mimetype": "text/x-python",
   "name": "python",
   "nbconvert_exporter": "python",
   "pygments_lexer": "ipython3",
   "version": "3.12.11"
  }
 },
 "nbformat": 4,
 "nbformat_minor": 5
}
