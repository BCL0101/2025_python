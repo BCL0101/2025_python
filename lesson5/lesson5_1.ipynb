{
 "cells": [
  {
   "cell_type": "code",
   "execution_count": null,
   "id": "35bfad69",
   "metadata": {},
   "outputs": [],
   "source": [
    "import requests\n",
    "\n",
    "def chat_with_ollama(prompt: str):\n",
    "    url = \"http://localhost:11434/api/generate\"\n",
    "    payload = {\n",
    "        \"model\": \"gemma3:1b\",\n",
    "        \"prompt\": prompt,\n",
    "        \"stream\": False,\n",
    "        \"options\": { #參考說明1\n",
    "            \"temperature\": 0.7,\n",
    "            \"top_p\": 0.9,\n",
    "            \"top_k\": 50,\n",
    "        },\n",
    "        \"max_tokens\": 100,\n",
    "        \"format\": \"json\",\n",
    "    }\n",
    "\n",
    "    response = requests.post(url, json=payload)\n",
    "    result = response.json()\n",
    "    print(\"💬 AI 回應：\")\n",
    "    # Print the whole result for debugging\n",
    "    print(result)\n",
    "    # Try to print the 'response' key if it exists, otherwise print possible keys\n",
    "    if \"response\" in result:\n",
    "        print(result[\"response\"])\n",
    "    elif \"message\" in result:\n",
    "        print(result[\"message\"])\n",
    "    elif \"content\" in result:\n",
    "        print(result[\"content\"])\n",
    "    else:\n",
    "        print(\"No expected key found in response. Available keys:\", result.keys())\n",
    "\n",
    "#範例輸入\n",
    "chat_with_ollama(\"請問你是誰？\")"
   ]
  },
  {
   "cell_type": "code",
   "execution_count": null,
   "id": "65042306",
   "metadata": {},
   "outputs": [],
   "source": [
    "import requests\n",
    "\n",
    "url = 'https://github.com/open-webui/open-webui'\n",
    "response = requests.get(url) #引數值的呼叫\n",
    "#type(response)\n",
    "if response.status_code ==200:\n",
    "    print(\"下載成功\")\n",
    "    print(response.text)\n",
    "\n",
    "#requests.get(url=url) #引數名稱呼叫\n"
   ]
  },
  {
   "cell_type": "code",
   "execution_count": 32,
   "id": "18d2d46c",
   "metadata": {},
   "outputs": [
    {
     "name": "stdout",
     "output_type": "stream",
     "text": [
      "成功\n"
     ]
    },
    {
     "data": {
      "text/markdown": [
       "我是Gemma，一個由Google DeepMind 訓練的大型語言模型。我是一個開放權重的AI助理，可以回答問題、生成文本、翻譯語言等等。 \n",
       "\n",
       "簡單來說，我是一個程式，但我的訓練是針對大量文字和程式碼，讓我能夠理解並產生人類語言。 \n",
       "\n",
       "你可以把我當作一個隨時能回答你問題的助手。 😊 \n",
       "\n",
       "你今天想聊些什麼呢？\n"
      ],
      "text/plain": [
       "<IPython.core.display.Markdown object>"
      ]
     },
     "metadata": {},
     "output_type": "display_data"
    }
   ],
   "source": [
    "import requests\n",
    "from IPython.display import Markdown, display\n",
    "\n",
    "url = \"http://localhost:11434/api/generate\"\n",
    "response = requests.post(url, json={\n",
    "    \"model\": \"gemma3:1b\",\n",
    "    \"prompt\": \"請問你是誰？\",\n",
    "    \"stream\": False,\n",
    "})\n",
    "if response.status_code == 200:\n",
    "    print(\"成功\")\n",
    "    result = response.json()\n",
    "    display(Markdown(result['response']))\n",
    "else:\n",
    "    print(\"失敗\")\n",
    "    print(\"原因\", response.status_code)"
   ]
  },
  {
   "cell_type": "code",
   "execution_count": 30,
   "id": "bf72e0b5",
   "metadata": {},
   "outputs": [
    {
     "name": "stdout",
     "output_type": "stream",
     "text": [
      "TW\n",
      "JP\n",
      "HK\n",
      "Taiwan\n",
      "Japan\n",
      "Hong Kong\n",
      "TW Taiwan\n",
      "JP Japan\n",
      "HK Hong Kong\n"
     ]
    }
   ],
   "source": [
    "codes = {\n",
    "    \"TW\":\"Taiwan\",\n",
    "    \"JP\":\"Japan\",\n",
    "    \"HK\":\"Hong Kong\",\n",
    "}\n",
    "codes[\"TW\"]\n",
    "codes[\"JP\"]\n",
    "codes[\"HK\"]\n",
    "codes.keys()\n",
    "for item in codes.keys():\n",
    "    print(item)\n",
    "\n",
    "for value in codes.values():\n",
    "    print(value)\n",
    "\n",
    "for (code,name) in codes.items():\n",
    "    print(code,name)"
   ]
  }
 ],
 "metadata": {
  "kernelspec": {
   "display_name": "line_bot",
   "language": "python",
   "name": "python3"
  },
  "language_info": {
   "codemirror_mode": {
    "name": "ipython",
    "version": 3
   },
   "file_extension": ".py",
   "mimetype": "text/x-python",
   "name": "python",
   "nbconvert_exporter": "python",
   "pygments_lexer": "ipython3",
   "version": "3.12.11"
  }
 },
 "nbformat": 4,
 "nbformat_minor": 5
}
